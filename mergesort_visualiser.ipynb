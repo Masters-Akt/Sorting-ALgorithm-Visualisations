{
 "cells": [
  {
   "cell_type": "code",
   "execution_count": 1,
   "metadata": {},
   "outputs": [
    {
     "name": "stdout",
     "output_type": "stream",
     "text": [
      "pygame 1.9.6\n",
      "Hello from the pygame community. https://www.pygame.org/contribute.html\n"
     ]
    }
   ],
   "source": [
    "import pygame\n",
    "import random\n",
    "pygame.font.init()"
   ]
  },
  {
   "cell_type": "code",
   "execution_count": 2,
   "metadata": {},
   "outputs": [],
   "source": [
    "screen = pygame.display.set_mode((900, 650))"
   ]
  },
  {
   "cell_type": "code",
   "execution_count": 3,
   "metadata": {},
   "outputs": [],
   "source": [
    "pygame.display.set_caption(\"SORTING VISUALISER\")"
   ]
  },
  {
   "cell_type": "code",
   "execution_count": 4,
   "metadata": {},
   "outputs": [],
   "source": [
    "run = True"
   ]
  },
  {
   "cell_type": "code",
   "execution_count": 5,
   "metadata": {},
   "outputs": [],
   "source": [
    "width = 900\n",
    "lenght = 600\n",
    "array = [0]*151\n",
    "arr_clr = [(0, 204, 102)]*151\n",
    "clr_ind = 0\n",
    "clr = [(0, 204, 102), (255, 0, 0), (0, 0, 153), (255, 102, 0)]\n",
    "fnt = pygame.font.SysFont(\"comicsans\", 30)\n",
    "fnt1 = pygame.font.SysFont(\"comicsans\", 20)"
   ]
  },
  {
   "cell_type": "code",
   "execution_count": 6,
   "metadata": {},
   "outputs": [],
   "source": [
    "def generate_arr():\n",
    "    for i in range(1, 151):\n",
    "        arr_clr[i] = clr[0]\n",
    "        array[i] = random.randrange(1, 100)\n",
    "generate_arr()"
   ]
  },
  {
   "cell_type": "code",
   "execution_count": 7,
   "metadata": {},
   "outputs": [],
   "source": [
    "def refill():\n",
    "    screen.fill((255, 255, 255))\n",
    "    draw()\n",
    "    pygame.display.update()\n",
    "    pygame.time.delay(20)"
   ]
  },
  {
   "cell_type": "code",
   "execution_count": 8,
   "metadata": {},
   "outputs": [],
   "source": [
    "def mergesort(array, l, r): \n",
    "    mid =(l + r)//2\n",
    "    if l<r: \n",
    "        mergesort(array, l, mid) \n",
    "        mergesort(array, mid + 1, r) \n",
    "        merge(array, l, mid, \n",
    "            mid + 1, r) \n",
    "def merge(array, x1, y1, x2, y2): \n",
    "    i = x1 \n",
    "    j = x2 \n",
    "    temp =[] \n",
    "    pygame.event.pump()  \n",
    "    while i<= y1 and j<= y2: \n",
    "        arr_clr[i]= clr[1] \n",
    "        arr_clr[j]= clr[1] \n",
    "        refill() \n",
    "        arr_clr[i]= clr[0] \n",
    "        arr_clr[j]= clr[0] \n",
    "        if array[i]<array[j]: \n",
    "                temp.append(array[i]) \n",
    "                i+= 1\n",
    "        else: \n",
    "                temp.append(array[j]) \n",
    "                j+= 1\n",
    "    while i<= y1: \n",
    "        arr_clr[i]= clr[1] \n",
    "        refill() \n",
    "        arr_clr[i]= clr[0] \n",
    "        temp.append(array[i]) \n",
    "        i+= 1\n",
    "    while j<= y2: \n",
    "        arr_clr[j]= clr[1] \n",
    "        refill() \n",
    "        arr_clr[j]= clr[0] \n",
    "        temp.append(array[j]) \n",
    "        j+= 1\n",
    "    j = 0    \n",
    "    for i in range(x1, y2 + 1):  \n",
    "        pygame.event.pump()  \n",
    "        array[i]= temp[j] \n",
    "        j+= 1\n",
    "        arr_clr[i]= clr[2] \n",
    "        refill() \n",
    "        if y2-x1 == len(array)-2: \n",
    "            arr_clr[i]= clr[3] \n",
    "        else:  \n",
    "            arr_clr[i]= clr[0] "
   ]
  },
  {
   "cell_type": "code",
   "execution_count": 9,
   "metadata": {},
   "outputs": [],
   "source": [
    "def draw():\n",
    "    txt = fnt.render(\"PRESS 'ENTER' TO PERFORM SORTING\", 1, (0, 0, 0))\n",
    "    screen.blit(txt, (20, 20))\n",
    "    txt1 = fnt.render(\"PRESS 'R' FOR NEW ARRAY.\", 1 , (0, 0, 0))\n",
    "    screen.blit(txt1, (20, 40))\n",
    "    txt2 = fnt1. render(\"ALGORITHM USED: MERGE SORT\", 1, (0, 0, 0))\n",
    "    screen.blit(txt2, (600, 60))\n",
    "    element_width = (width-150)//150\n",
    "    boundry_arr = 900 / 150\n",
    "    boundry_grp = 550 / 100\n",
    "    pygame.draw.line(screen, (0, 0, 0), (0, 95), (900, 95), 6)\n",
    "    for i in range(1, 100):\n",
    "        pygame.draw.line(screen, (224, 224, 224), (0, boundry_grp*i + 100), (900, boundry_grp*i + 100), 1)\n",
    "    for i in range(1, 151):\n",
    "        pygame.draw.line(screen, arr_clr[i], (boundry_arr * i-3, 100), (boundry_arr * i-3, array[i]*boundry_grp + 100), element_width)"
   ]
  },
  {
   "cell_type": "code",
   "execution_count": 10,
   "metadata": {},
   "outputs": [],
   "source": [
    "while run:\n",
    "    screen.fill((255, 255, 255))\n",
    "    for event in pygame.event.get():\n",
    "        if event.type == pygame.QUIT:\n",
    "            run = False\n",
    "        if event.type == pygame.KEYDOWN:\n",
    "            if event.key == pygame.K_r:\n",
    "                generate_arr()\n",
    "            if event.key == pygame.K_RETURN:\n",
    "                mergesort(array, 1, len(array)-1)\n",
    "    draw()\n",
    "    pygame.display.update()\n",
    "pygame.quit()"
   ]
  }
 ],
 "metadata": {
  "kernelspec": {
   "display_name": "Python 3",
   "language": "python",
   "name": "python3"
  },
  "language_info": {
   "codemirror_mode": {
    "name": "ipython",
    "version": 3
   },
   "file_extension": ".py",
   "mimetype": "text/x-python",
   "name": "python",
   "nbconvert_exporter": "python",
   "pygments_lexer": "ipython3",
   "version": "3.7.6"
  }
 },
 "nbformat": 4,
 "nbformat_minor": 4
}
