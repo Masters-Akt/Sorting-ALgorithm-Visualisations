{
 "cells": [
  {
   "cell_type": "markdown",
   "metadata": {},
   "source": [
    "# QUICKSORT VISUALISER"
   ]
  },
  {
   "cell_type": "markdown",
   "metadata": {},
   "source": [
    "An attemp to visualise quicksort algorithm (Python implementation).\n",
    "\n",
    "The graphical user interface (GUI) is implemented using pygame library of python.\n",
    "\n",
    "Steps Involved:\n",
    "    1. An array of random values is generated and are drawn as lines / bars in the output window.\n",
    "    2. pygame.time.delay() function has been used to slow down the process as the algorithm performs the sorting operation very fast.\n",
    "    3. specific keys for each operation has been assigned. The two operations are A. start sorting and B. reset bars.\n",
    "    4. The actions are performed using pygame.event.get() function which stores all the event which user performs.\n",
    "    5. Different colours used to denote different types of bars are:\n",
    "        A. Green colour : Unsorted bar\n",
    "        B. Blue colour : Pivot bar\n",
    "        C. Orange colour : Sorted bar"
   ]
  },
  {
   "cell_type": "markdown",
   "metadata": {},
   "source": [
    "Prerequisite:\n",
    "    To run this file install the pygame library in your system."
   ]
  },
  {
   "cell_type": "markdown",
   "metadata": {},
   "source": [
    "### Import statements"
   ]
  },
  {
   "cell_type": "code",
   "execution_count": 11,
   "metadata": {},
   "outputs": [],
   "source": [
    "import pygame\n",
    "import random\n",
    "pygame.font.init()"
   ]
  },
  {
   "cell_type": "code",
   "execution_count": 12,
   "metadata": {},
   "outputs": [],
   "source": [
    "#Total window\n",
    "screen = pygame.display.set_mode(\n",
    "    (900, 650)\n",
    ")\n",
    "#Title and Icon\n",
    "pygame.display.set_caption(\"SORTING VISUALISER\")\n",
    "#img = pygame.image.load('sort_icon.png')\n",
    "#pygame.display.set_icon(img)"
   ]
  },
  {
   "cell_type": "code",
   "execution_count": 13,
   "metadata": {},
   "outputs": [],
   "source": [
    "#'run' is the boolean variable to run the program in a while loop\n",
    "run = True\n",
    "\n",
    "#Window size and some initials\n",
    "width = 900\n",
    "length = 600\n",
    "array = [0]*151\n",
    "arr_clr = [(0, 204, 102)]*151\n",
    "clr_ind = 0\n",
    "clr = [(0, 204, 102), (255, 0 ,0),\\\n",
    "      (0, 0, 153), (255, 102, 0)]\n",
    "fnt = pygame.font.SysFont(\"comicsans\", 30)\n",
    "fnt1 = pygame.font.SysFont(\"comicsans\", 20)\n"
   ]
  },
  {
   "cell_type": "code",
   "execution_count": 14,
   "metadata": {},
   "outputs": [],
   "source": [
    "#Function to generate new random array\n",
    "def generate_arr():\n",
    "    for i in range(1, 151):\n",
    "        arr_clr[i]=clr[0]\n",
    "        array[i]=random.randrange(1,100)\n",
    "\n",
    "#Initially generate an array\n",
    "generate_arr()"
   ]
  },
  {
   "cell_type": "code",
   "execution_count": 15,
   "metadata": {},
   "outputs": [],
   "source": [
    "#Function to refill the updates on the window\n",
    "def refill():\n",
    "    screen.fill((255, 255, 255))\n",
    "    draw()\n",
    "    pygame.display.update()\n",
    "    pygame.time.delay(30)"
   ]
  },
  {
   "cell_type": "code",
   "execution_count": 16,
   "metadata": {},
   "outputs": [],
   "source": [
    "#The Quick Sort sorting algorithm\n",
    "def quicksort(array, l, r):\n",
    "    if l<r:\n",
    "        pi = partition(array, l, r)\n",
    "        quicksort(array, l, pi-1)\n",
    "        refill()\n",
    "        for i in range(0, pi+1):\n",
    "            arr_clr[i]=clr[3]\n",
    "        quicksort(array, pi+1, r)"
   ]
  },
  {
   "cell_type": "code",
   "execution_count": 17,
   "metadata": {},
   "outputs": [],
   "source": [
    "#Function to partition the array\n",
    "def partition(array, low, high):\n",
    "    pygame.event.pump()\n",
    "    pivot = array[high]\n",
    "    arr_clr[high] = clr[2]\n",
    "    i = low-1\n",
    "    for j in range(low, high):\n",
    "        arr_clr[j] = clr[1]\n",
    "        refill()\n",
    "        arr_clr[high] = clr[2]\n",
    "        arr_clr[j] = clr[0]\n",
    "        arr_clr[i] = clr[0]\n",
    "        if array[j]<pivot:\n",
    "            i = i+1\n",
    "            arr_clr[i] = clr[1]\n",
    "            array[i], array[j] = array[j], array[i]\n",
    "    refill()\n",
    "    arr_clr[i] = clr[0]\n",
    "    arr_clr[high] = clr[0]\n",
    "    array[i+1], array[high] = array[high], array[i+1]\n",
    "    return (i+1)"
   ]
  },
  {
   "cell_type": "code",
   "execution_count": 18,
   "metadata": {},
   "outputs": [],
   "source": [
    "#Function to draw the array values\n",
    "def draw():\n",
    "    #Text should be rendered\n",
    "    txt = fnt.render(\"SORT : PRESS 'ENTER'\",\\\n",
    "                    1, (0, 0, 0))\n",
    "    #Position where the text is placed\n",
    "    screen.blit(txt, (20,20))\n",
    "    txt1 = fnt.render(\"NEW ARRAY : PRESS 'R'\",\\\n",
    "                     1, (0, 0, 0))\n",
    "    screen.blit(txt1, (20,40))\n",
    "    txt2 = fnt1.render(\"ALGORITHM USED : QUICK SORT\",\\\n",
    "                      1, (0, 0, 0))\n",
    "    screen.blit(txt2, (600, 60))\n",
    "    element_width = (width-150)//150\n",
    "    boundry_arr = 900/150\n",
    "    boundry_grp = 550/100\n",
    "    pygame.draw.line(screen, (0, 0, 0),\\\n",
    "                    (0, 95), (900, 95), 6)\n",
    "    \n",
    "    #Drawing the array values as lines\n",
    "    for i in range(1, 151):\n",
    "        pygame.draw.line(screen, \\\n",
    "                        arr_clr[i], (boundry_arr * i-3, 100),\\\n",
    "                        (boundry_arr * i-3,\\\n",
    "                        array[i]*boundry_grp + 100),\\\n",
    "                        element_width)"
   ]
  },
  {
   "cell_type": "code",
   "execution_count": null,
   "metadata": {},
   "outputs": [],
   "source": [
    "#The continuous running program\n",
    "while run:\n",
    "    #background\n",
    "    screen.fill((255, 255, 255))\n",
    "    \n",
    "    #Event handler to store all event\n",
    "    for event in pygame.event.get():\n",
    "        #If we click close button in window\n",
    "        if event.type == pygame.QUIT:\n",
    "            run = False\n",
    "        if event.type == pygame.KEYDOWN:\n",
    "            if event.key == pygame.K_r:\n",
    "                generate_arr()\n",
    "            if event.key == pygame.K_RETURN:\n",
    "                quicksort(array, 1, len(array)-1)\n",
    "    draw()\n",
    "    pygame.display.update()\n",
    "pygame.quit()"
   ]
  }
 ],
 "metadata": {
  "kernelspec": {
   "display_name": "Python 3",
   "language": "python",
   "name": "python3"
  },
  "language_info": {
   "codemirror_mode": {
    "name": "ipython",
    "version": 3
   },
   "file_extension": ".py",
   "mimetype": "text/x-python",
   "name": "python",
   "nbconvert_exporter": "python",
   "pygments_lexer": "ipython3",
   "version": "3.7.6"
  }
 },
 "nbformat": 4,
 "nbformat_minor": 4
}
